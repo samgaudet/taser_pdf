{
 "cells": [
  {
   "cell_type": "markdown",
   "metadata": {},
   "source": [
    "# Electric Defense Weapon Report (EDWR) Scraper"
   ]
  },
  {
   "cell_type": "markdown",
   "metadata": {},
   "source": [
    "## Import Libraries"
   ]
  },
  {
   "cell_type": "code",
   "execution_count": 14,
   "metadata": {
    "collapsed": true
   },
   "outputs": [],
   "source": [
    "import os\n",
    "import pandas as pd\n",
    "import numpy as np\n",
    "\n",
    "from pdfminer.pdfparser import PDFParser\n",
    "from pdfminer.pdfdocument import PDFDocument\n",
    "from pdfminer.pdfpage import PDFTextExtractionNotAllowed\n",
    "from pdfminer.pdftypes import resolve1"
   ]
  },
  {
   "cell_type": "markdown",
   "metadata": {},
   "source": [
    "## Define Constants"
   ]
  },
  {
   "cell_type": "code",
   "execution_count": 2,
   "metadata": {
    "collapsed": true
   },
   "outputs": [],
   "source": [
    "# file path containing pdfs\n",
    "base_path = \"test_pdfs/\""
   ]
  },
  {
   "cell_type": "code",
   "execution_count": 3,
   "metadata": {
    "collapsed": true
   },
   "outputs": [],
   "source": [
    "my_file = os.path.join(base_path + \"/\" + \"EDWOPM1.pdf\")\n",
    "\n",
    "password = \"\""
   ]
  },
  {
   "cell_type": "code",
   "execution_count": 52,
   "metadata": {
    "collapsed": true
   },
   "outputs": [],
   "source": [
    "# dictionary for converting stripped postscript literal strings to integer booleans\n",
    "psLiteralDict = {\n",
    "    \"Off\" : 0,\n",
    "    \"Yes\" : 1\n",
    "}"
   ]
  },
  {
   "cell_type": "code",
   "execution_count": 80,
   "metadata": {},
   "outputs": [
    {
     "name": "stdout",
     "output_type": "stream",
     "text": [
      "['EDWOPM5.pdf', 'EDWOPM4.pdf', '.DS_Store', 'EDWOPM1.pdf', 'EDWOPM3.pdf', 'EDWOPM2.pdf']\n"
     ]
    }
   ],
   "source": [
    "files = []\n",
    "for (dirpath, dirnames, filenames) in os.walk(base_path):\n",
    "    files.extend(filenames)\n",
    "    break\n",
    "    \n",
    "print(files)"
   ]
  },
  {
   "cell_type": "markdown",
   "metadata": {},
   "source": [
    "## Prepare PDF"
   ]
  },
  {
   "cell_type": "code",
   "execution_count": 82,
   "metadata": {},
   "outputs": [
    {
     "name": "stdout",
     "output_type": "stream",
     "text": [
      "Document is well.\n"
     ]
    }
   ],
   "source": [
    "# open and read the pdf file in binary mode\n",
    "fp = open(my_file, \"rb\")\n",
    "\n",
    "# create parser object to parse the pdf content\n",
    "parser = PDFParser(fp)\n",
    "\n",
    "# store the parsed content in PDFDocument object\n",
    "document = PDFDocument(parser, password)\n",
    "\n",
    "# check if document is extractable, if not abort\n",
    "if document.is_extractable:\n",
    "    print('Document is well.')\n",
    "else:\n",
    "    raise PDFTextExtractionNotAllowed"
   ]
  },
  {
   "cell_type": "code",
   "execution_count": 83,
   "metadata": {},
   "outputs": [
    {
     "data": {
      "text/plain": [
       "pdfminer.pdfdocument.PDFDocument"
      ]
     },
     "execution_count": 83,
     "metadata": {},
     "output_type": "execute_result"
    }
   ],
   "source": [
    "type(document)"
   ]
  },
  {
   "cell_type": "markdown",
   "metadata": {},
   "source": [
    "## Resolve PDF Document"
   ]
  },
  {
   "cell_type": "code",
   "execution_count": 81,
   "metadata": {},
   "outputs": [
    {
     "data": {
      "text/plain": [
       "list"
      ]
     },
     "execution_count": 81,
     "metadata": {},
     "output_type": "execute_result"
    }
   ],
   "source": [
    "fields = resolve1(document.catalog['AcroForm'])['Fields']\n",
    "# for i in fields:\n",
    "#     field = resolve1(i)\n",
    "#     name, value = field.get('T'), field.get('V')\n",
    "#     print('{0}: {1}'.format(name, value))\n",
    "\n",
    "type(fields)"
   ]
  },
  {
   "cell_type": "markdown",
   "metadata": {},
   "source": [
    "## Construct Empty Dataframe with Inherited Column Names"
   ]
  },
  {
   "cell_type": "code",
   "execution_count": 17,
   "metadata": {},
   "outputs": [],
   "source": [
    "def getColumnNames(fields):\n",
    "    \"\"\"\n",
    "    Given a resolved list of fields from PDF document, create an empty dataframe with field column names.\n",
    "    \n",
    "    :param fields: <list> The original fields list for a given PDF\n",
    "    \"\"\"\n",
    "\n",
    "    global field_list\n",
    "    field_list = []\n",
    "\n",
    "    for i in fields:\n",
    "        field = resolve1(i)\n",
    "        field_name = field.get('T').decode(\"utf-8\") # the fields gotten from the resolve is a bit string\n",
    "        field_list.append(field_name)\n",
    "\n",
    "    df = pd.DataFrame(columns=field_list)"
   ]
  },
  {
   "cell_type": "code",
   "execution_count": 75,
   "metadata": {},
   "outputs": [],
   "source": [
    "def getValuesFromFields(fields):\n",
    "    \"\"\"\n",
    "    Given a resolved list of fields from PDF document, create a list of the field values.\n",
    "    \n",
    "    :param fields: <list> The original fields list for a given PDF\n",
    "    \"\"\"\n",
    "    \n",
    "    global values\n",
    "    values = []\n",
    "    \n",
    "    for i in fields:\n",
    "        \n",
    "        field = resolve1(i)\n",
    "        \n",
    "        field_value = field.get('V')\n",
    "    \n",
    "        try:\n",
    "        \n",
    "            field_value = field_value.decode(\"utf-8\")\n",
    "    \n",
    "        except:\n",
    "        \n",
    "            field_value = str(field_value).strip(\"\\/\") # strip forward slash from strings\n",
    "        \n",
    "            field_value = str(field_value).strip(\"\\'\") # strip backward slash from strings\n",
    "        \n",
    "            field_value = psLiteralDict.get(field_value) # convert string to integer boolean\n",
    "        \n",
    "        values.append(field_value)"
   ]
  },
  {
   "cell_type": "code",
   "execution_count": 71,
   "metadata": {
    "collapsed": true
   },
   "outputs": [],
   "source": [
    "def addRow(df,ls):\n",
    "    \"\"\"\n",
    "    Given a dataframe and a list, append the list as a new row to the dataframe.\n",
    "\n",
    "    :param df: <DataFrame> The original dataframe\n",
    "    :param ls: <list> The new row to be added\n",
    "    :return: <DataFrame> The dataframe with the newly appended row\n",
    "    \n",
    "    https://stackoverflow.com/questions/26309962/appending-a-list-or-series-to-a-pandas-dataframe-as-a-row\n",
    "    \"\"\"\n",
    "\n",
    "    numEl = len(ls)\n",
    "\n",
    "    newRow = pd.DataFrame(np.array(ls).reshape(1,numEl), columns = list(df.columns))\n",
    "\n",
    "    df = df.append(newRow, ignore_index=True)\n",
    "\n",
    "    return df"
   ]
  },
  {
   "cell_type": "code",
   "execution_count": 72,
   "metadata": {},
   "outputs": [],
   "source": [
    "getValuesFromFields(fields)"
   ]
  },
  {
   "cell_type": "code",
   "execution_count": 73,
   "metadata": {},
   "outputs": [
    {
     "name": "stdout",
     "output_type": "stream",
     "text": [
      "['New Haven', 'Buck', '2018', '12/20', '2283787108782', '12/20', '2/01/2018', '3p', '5\\'3\"', '180', '25', 'M', 'White', 1, 0, 0, 0, 1, 1, 0, 1, '3s', '10s', '', 'Chris', 0, 0, 0, 1, 0, 0, 0, 0, 0, '', 1, 0, 0, 0, 0, 0, 0, '', 1, 0, 0, 0, 0, 0, 0, 0, 0, 0, 1, 0, 1, 0, '', 0, 0, 0, 1, 1, 0, 0, 0, '', 0, 0, 0, 0, 1, 0, 'knife', '', 0, 1, 0, 0, 0, 0, 0, 0, 0, 'spoon', 1, 0, 0, '']\n"
     ]
    }
   ],
   "source": [
    "print(values)"
   ]
  },
  {
   "cell_type": "code",
   "execution_count": 74,
   "metadata": {},
   "outputs": [
    {
     "data": {
      "text/html": [
       "<div>\n",
       "<style>\n",
       "    .dataframe thead tr:only-child th {\n",
       "        text-align: right;\n",
       "    }\n",
       "\n",
       "    .dataframe thead th {\n",
       "        text-align: left;\n",
       "    }\n",
       "\n",
       "    .dataframe tbody tr th {\n",
       "        vertical-align: top;\n",
       "    }\n",
       "</style>\n",
       "<table border=\"1\" class=\"dataframe\">\n",
       "  <thead>\n",
       "    <tr style=\"text-align: right;\">\n",
       "      <th></th>\n",
       "      <th>Law Enforcement Agency</th>\n",
       "      <th>Report Prepared By</th>\n",
       "      <th>Reporting Year</th>\n",
       "      <th>Date of Report</th>\n",
       "      <th>Incident Case Number</th>\n",
       "      <th>Date of Report_2</th>\n",
       "      <th>Date of Incident</th>\n",
       "      <th>Time of Incident</th>\n",
       "      <th>Height</th>\n",
       "      <th>Weight</th>\n",
       "      <th>...</th>\n",
       "      <th>Fleeing</th>\n",
       "      <th>Unarmed Assault</th>\n",
       "      <th>Armed with Firearm</th>\n",
       "      <th>Armed with Edged Weapon</th>\n",
       "      <th>Armed with Blunt Instrument</th>\n",
       "      <th>Armed with Other</th>\n",
       "      <th>Armed with Other 2</th>\n",
       "      <th>Failed to Follow Officer Directions</th>\n",
       "      <th>Suicidal</th>\n",
       "      <th>Subject Resistance Other</th>\n",
       "    </tr>\n",
       "  </thead>\n",
       "  <tbody>\n",
       "    <tr>\n",
       "      <th>0</th>\n",
       "      <td>New Haven</td>\n",
       "      <td>Buck</td>\n",
       "      <td>2018</td>\n",
       "      <td>12/20</td>\n",
       "      <td>2283787108782</td>\n",
       "      <td>12/20</td>\n",
       "      <td>2/01/2018</td>\n",
       "      <td>3p</td>\n",
       "      <td>5'3\"</td>\n",
       "      <td>180</td>\n",
       "      <td>...</td>\n",
       "      <td>0</td>\n",
       "      <td>0</td>\n",
       "      <td>0</td>\n",
       "      <td>0</td>\n",
       "      <td>0</td>\n",
       "      <td>spoon</td>\n",
       "      <td>1</td>\n",
       "      <td>0</td>\n",
       "      <td>0</td>\n",
       "      <td></td>\n",
       "    </tr>\n",
       "  </tbody>\n",
       "</table>\n",
       "<p>1 rows × 89 columns</p>\n",
       "</div>"
      ],
      "text/plain": [
       "  Law Enforcement Agency Report Prepared By Reporting Year Date of Report  \\\n",
       "0              New Haven               Buck           2018          12/20   \n",
       "\n",
       "  Incident Case Number Date of Report_2 Date of Incident Time of Incident  \\\n",
       "0        2283787108782            12/20        2/01/2018               3p   \n",
       "\n",
       "  Height Weight           ...            Fleeing Unarmed Assault  \\\n",
       "0   5'3\"    180           ...                  0               0   \n",
       "\n",
       "  Armed with Firearm Armed with Edged Weapon Armed with Blunt Instrument  \\\n",
       "0                  0                       0                           0   \n",
       "\n",
       "  Armed with Other Armed with Other 2 Failed to Follow Officer Directions  \\\n",
       "0            spoon                  1                                   0   \n",
       "\n",
       "  Suicidal Subject Resistance Other  \n",
       "0        0                           \n",
       "\n",
       "[1 rows x 89 columns]"
      ]
     },
     "execution_count": 74,
     "metadata": {},
     "output_type": "execute_result"
    }
   ],
   "source": [
    "addRow(df, values)"
   ]
  },
  {
   "cell_type": "code",
   "execution_count": null,
   "metadata": {
    "collapsed": true
   },
   "outputs": [],
   "source": []
  }
 ],
 "metadata": {
  "kernelspec": {
   "display_name": "Python 3",
   "language": "python",
   "name": "python3"
  },
  "language_info": {
   "codemirror_mode": {
    "name": "ipython",
    "version": 3
   },
   "file_extension": ".py",
   "mimetype": "text/x-python",
   "name": "python",
   "nbconvert_exporter": "python",
   "pygments_lexer": "ipython3",
   "version": "3.6.3"
  }
 },
 "nbformat": 4,
 "nbformat_minor": 2
}
